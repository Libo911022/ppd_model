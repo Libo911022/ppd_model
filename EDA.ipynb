{
 "cells": [
  {
   "cell_type": "code",
   "execution_count": 14,
   "metadata": {},
   "outputs": [
    {
     "data": {
      "text/plain": [
       "['user_info.csv',\n",
       " 'listing_info.csv',\n",
       " 'submission.zip',\n",
       " '.ipynb_checkpoints',\n",
       " 'dogscats',\n",
       " 'user_behavior_logs.csv',\n",
       " 'user_taglist.csv',\n",
       " 'user_repay_logs.csv',\n",
       " 'EDA.ipynb',\n",
       " 'train.csv',\n",
       " 'test.csv']"
      ]
     },
     "execution_count": 14,
     "metadata": {},
     "output_type": "execute_result"
    }
   ],
   "source": [
    "import pandas as pd\n",
    "import numpy as np\n",
    "import matplotlib.pyplot as plt\n",
    "import seaborn as sns\n",
    "color = sns.color_palette()\n",
    "pd.options.mode.chained_assignment = None\n",
    "pd.options.display.max_columns = 999\n",
    "%matplotlib inline\n",
    "import os\n",
    "os.listdir()"
   ]
  },
  {
   "cell_type": "code",
   "execution_count": 32,
   "metadata": {},
   "outputs": [],
   "source": [
    "train_data = pd.read_csv(\"train.csv\")\n",
    "train_data['train']=1\n",
    "test_data = pd.read_csv(\"test.csv\")\n",
    "test_data['train']=0\n",
    "train_data[train_data.repay_date=='\\\\N'].shape[0]/len(train_data)\n",
    "train_data['yq_flag'] = train_data.repay_date=='\\\\N'\n",
    "listing_info = pd.read_csv('listing_info.csv')"
   ]
  },
  {
   "cell_type": "code",
   "execution_count": 33,
   "metadata": {},
   "outputs": [],
   "source": [
    "total_data = pd.concat([train_data[['user_id', 'listing_id', 'auditing_date', 'due_date', 'due_amt','train']],test_data])\n",
    "total_data = total_data.merge(listing_info,on=['user_id', 'listing_id','auditing_date'])"
   ]
  },
  {
   "cell_type": "markdown",
   "metadata": {},
   "source": [
    "训练集是2018年1月到2018年12月的部分数据，测试集是19年前两个月的数据"
   ]
  },
  {
   "cell_type": "code",
   "execution_count": 22,
   "metadata": {},
   "outputs": [
    {
     "data": {
      "text/html": [
       "<div>\n",
       "<style scoped>\n",
       "    .dataframe tbody tr th:only-of-type {\n",
       "        vertical-align: middle;\n",
       "    }\n",
       "\n",
       "    .dataframe tbody tr th {\n",
       "        vertical-align: top;\n",
       "    }\n",
       "\n",
       "    .dataframe thead th {\n",
       "        text-align: right;\n",
       "    }\n",
       "</style>\n",
       "<table border=\"1\" class=\"dataframe\">\n",
       "  <thead>\n",
       "    <tr style=\"text-align: right;\">\n",
       "      <th>train</th>\n",
       "      <th>0</th>\n",
       "      <th>1</th>\n",
       "    </tr>\n",
       "    <tr>\n",
       "      <th>auditing_date</th>\n",
       "      <th></th>\n",
       "      <th></th>\n",
       "    </tr>\n",
       "  </thead>\n",
       "  <tbody>\n",
       "    <tr>\n",
       "      <th>2018-01</th>\n",
       "      <td>0</td>\n",
       "      <td>51591</td>\n",
       "    </tr>\n",
       "    <tr>\n",
       "      <th>2018-02</th>\n",
       "      <td>0</td>\n",
       "      <td>53366</td>\n",
       "    </tr>\n",
       "    <tr>\n",
       "      <th>2018-03</th>\n",
       "      <td>0</td>\n",
       "      <td>87050</td>\n",
       "    </tr>\n",
       "    <tr>\n",
       "      <th>2018-04</th>\n",
       "      <td>0</td>\n",
       "      <td>115145</td>\n",
       "    </tr>\n",
       "    <tr>\n",
       "      <th>2018-05</th>\n",
       "      <td>0</td>\n",
       "      <td>114167</td>\n",
       "    </tr>\n",
       "    <tr>\n",
       "      <th>2018-06</th>\n",
       "      <td>0</td>\n",
       "      <td>92796</td>\n",
       "    </tr>\n",
       "    <tr>\n",
       "      <th>2018-07</th>\n",
       "      <td>0</td>\n",
       "      <td>71249</td>\n",
       "    </tr>\n",
       "    <tr>\n",
       "      <th>2018-08</th>\n",
       "      <td>0</td>\n",
       "      <td>57625</td>\n",
       "    </tr>\n",
       "    <tr>\n",
       "      <th>2018-09</th>\n",
       "      <td>0</td>\n",
       "      <td>73257</td>\n",
       "    </tr>\n",
       "    <tr>\n",
       "      <th>2018-10</th>\n",
       "      <td>0</td>\n",
       "      <td>86785</td>\n",
       "    </tr>\n",
       "    <tr>\n",
       "      <th>2018-11</th>\n",
       "      <td>0</td>\n",
       "      <td>90726</td>\n",
       "    </tr>\n",
       "    <tr>\n",
       "      <th>2018-12</th>\n",
       "      <td>0</td>\n",
       "      <td>106243</td>\n",
       "    </tr>\n",
       "    <tr>\n",
       "      <th>2019-02</th>\n",
       "      <td>57113</td>\n",
       "      <td>0</td>\n",
       "    </tr>\n",
       "    <tr>\n",
       "      <th>2019-03</th>\n",
       "      <td>72887</td>\n",
       "      <td>0</td>\n",
       "    </tr>\n",
       "  </tbody>\n",
       "</table>\n",
       "</div>"
      ],
      "text/plain": [
       "train              0       1\n",
       "auditing_date               \n",
       "2018-01            0   51591\n",
       "2018-02            0   53366\n",
       "2018-03            0   87050\n",
       "2018-04            0  115145\n",
       "2018-05            0  114167\n",
       "2018-06            0   92796\n",
       "2018-07            0   71249\n",
       "2018-08            0   57625\n",
       "2018-09            0   73257\n",
       "2018-10            0   86785\n",
       "2018-11            0   90726\n",
       "2018-12            0  106243\n",
       "2019-02        57113       0\n",
       "2019-03        72887       0"
      ]
     },
     "execution_count": 22,
     "metadata": {},
     "output_type": "execute_result"
    }
   ],
   "source": [
    "pd.crosstab(total_data['auditing_date'].str[:7],total_data['train'])"
   ]
  },
  {
   "cell_type": "code",
   "execution_count": 50,
   "metadata": {},
   "outputs": [
    {
     "data": {
      "text/plain": [
       "Index(['user_id', 'listing_id', 'auditing_date', 'due_date', 'due_amt',\n",
       "       'train', 'term', 'rate', 'principal'],\n",
       "      dtype='object')"
      ]
     },
     "execution_count": 50,
     "metadata": {},
     "output_type": "execute_result"
    }
   ],
   "source": [
    "total_data.columns"
   ]
  },
  {
   "cell_type": "code",
   "execution_count": 106,
   "metadata": {},
   "outputs": [],
   "source": [
    "train_data_cp = total_data.query('train==1').merge(\n",
    "    train_data[['user_id', 'listing_id', 'auditing_date','yq_flag','repay_amt','repay_date']],on=['user_id', 'listing_id', 'auditing_date'])\n",
    "train_data_cp['auditing_date'] = train_data_cp['auditing_date'].str[:7]\n",
    "train_data_cp['principal'] = train_data_cp['principal']//5000\n",
    "train_data_cp['amt_diff']= train_data_cp.apply(lambda x:round(x.due_amt,3)-float(x.repay_amt) if x.yq_flag==0 else -1,axis=1)"
   ]
  },
  {
   "cell_type": "code",
   "execution_count": 110,
   "metadata": {},
   "outputs": [],
   "source": [
    "import datetime as dt"
   ]
  },
  {
   "cell_type": "code",
   "execution_count": 112,
   "metadata": {},
   "outputs": [],
   "source": [
    "train_data_cp['days_diff'] = train_data_cp.apply(lambda x: (dt.datetime.strptime(x.due_date,'%Y-%m-%d')-\n",
    "                                                            dt.datetime.strptime(x.repay_date,'%Y-%m-%d')).days if x.yq_flag==0 else -1,axis=1)"
   ]
  },
  {
   "cell_type": "raw",
   "metadata": {},
   "source": [
    "从逾期角度分析\n",
    "每月的逾期率相对稳定，也可能是数据采样的缘故\n",
    "6和9期相对3和12期的逾期率要更高\n",
    "标的利率对应逾期也相对稳定\n",
    "标的金额集中在10000元以内"
   ]
  },
  {
   "cell_type": "code",
   "execution_count": 45,
   "metadata": {},
   "outputs": [
    {
     "name": "stdout",
     "output_type": "stream",
     "text": [
      "auditing_date\n",
      "yq_flag         False  True      False     True \n",
      "auditing_date                                   \n",
      "2018-01         44710   6881  0.866624  0.133376\n",
      "2018-02         46923   6443  0.879268  0.120732\n",
      "2018-03         75673  11377  0.869305  0.130695\n",
      "2018-04        101398  13747  0.880611  0.119389\n",
      "2018-05        100073  14094  0.876549  0.123451\n",
      "2018-06         81456  11340  0.877796  0.122204\n",
      "2018-07         63445   7804  0.890469  0.109531\n",
      "2018-08         51517   6108  0.894004  0.105996\n",
      "2018-09         65237   8020  0.890522  0.109478\n",
      "2018-10         77234   9551  0.889946  0.110054\n",
      "2018-11         81077   9649  0.893647  0.106353\n",
      "2018-12         94065  12178  0.885376  0.114624\n",
      "term\n",
      "yq_flag   False  True      False     True \n",
      "term                                      \n",
      "3         76795   8532  0.900008  0.099992\n",
      "6        361441  48615  0.881443  0.118557\n",
      "9        316021  46710  0.871227  0.128773\n",
      "12       128551  13335  0.906016  0.093984\n",
      "rate\n",
      "yq_flag   False  True      False     True \n",
      "rate                                      \n",
      "6.5       17308   2384  0.878936  0.121064\n",
      "6.9       41582   5533  0.882564  0.117436\n",
      "7.2      418961  59975  0.874775  0.125225\n",
      "7.6       33442   4216  0.888045  0.111955\n",
      "8.0       82087  10768  0.884034  0.115966\n",
      "8.3      128934  16541  0.886297  0.113703\n",
      "8.6      160494  17775  0.900291  0.099709\n",
      "principal\n",
      "yq_flag     False  True      False     True \n",
      "principal                                   \n",
      "0          739255  96006  0.885059  0.114941\n",
      "1          105840  15727  0.870631  0.129369\n",
      "2           27074   4061  0.869568  0.130432\n",
      "3            7394   1025  0.878252  0.121748\n",
      "4            2347    275  0.895118  0.104882\n",
      "5             620     69  0.899855  0.100145\n",
      "6             166     17  0.907104  0.092896\n",
      "7              46      3  0.938776  0.061224\n",
      "8              32      5  0.864865  0.135135\n",
      "9              21      2  0.913043  0.086957\n",
      "10             11      1  0.916667  0.083333\n",
      "11              2      1  0.666667  0.333333\n"
     ]
    }
   ],
   "source": [
    "for col in ['auditing_date','term','rate','principal']:\n",
    "    print (col)\n",
    "    temp = pd.crosstab(train_data_cp[col],train_data_cp['yq_flag'])\n",
    "    print (pd.concat([temp,temp.apply(lambda x:x/x.sum(),axis=1)],axis=1))\n",
    "#     plt.figure(figsize=(12,8))\n",
    "#     sns.violinplot(x=col, y='yq_flag', data=train_data_cp)\n",
    "#     plt.xlabel(col, fontsize=12)\n",
    "#     plt.ylabel('if default', fontsize=12)\n",
    "#     plt.show()"
   ]
  },
  {
   "cell_type": "markdown",
   "metadata": {},
   "source": [
    "从未逾期提前还款的角度分析,所有提前还款的金额都是当期应还金额，不存在部分还款，唯一的区别就是还款日期的早晚"
   ]
  },
  {
   "cell_type": "raw",
   "metadata": {},
   "source": [
    "综上分析，该问题可以的分解成一个是否违约的二分类问题，和一个提前多少天还款的回归类问题"
   ]
  },
  {
   "cell_type": "markdown",
   "metadata": {},
   "source": [
    "### 借款用户基础信息表"
   ]
  },
  {
   "cell_type": "code",
   "execution_count": 63,
   "metadata": {},
   "outputs": [],
   "source": [
    "user_info = pd.read_csv(\"user_info.csv\")"
   ]
  },
  {
   "cell_type": "code",
   "execution_count": 66,
   "metadata": {},
   "outputs": [
    {
     "data": {
      "text/plain": [
       "928195"
      ]
     },
     "execution_count": 66,
     "metadata": {},
     "output_type": "execute_result"
    }
   ],
   "source": [
    "#一共是928195个userid，其中26001个userid存在信息变更\n",
    "user_info.user_id.nunique() \n",
    "sum(user_info.groupby('user_id').size().sort_values()>1)"
   ]
  },
  {
   "cell_type": "code",
   "execution_count": 148,
   "metadata": {},
   "outputs": [],
   "source": [
    "user_info['reg_mon'] = user_info['reg_mon'].map(lambda x:dt.datetime.strptime(x+'-01',\"%Y-%m-%d\"))\n",
    "user_info['insertdate'] = user_info['insertdate'].map(lambda x:dt.datetime.strptime(x,\"%Y-%m-%d\"))"
   ]
  },
  {
   "cell_type": "markdown",
   "metadata": {},
   "source": [
    "用户每次申请如果和之前的信息发生变化都会生成一条新的记录但是user_id不变,但是user_info的总量和total_data并不相同，这是同一个用户在同一年中申请了多次贷款导致的"
   ]
  },
  {
   "cell_type": "markdown",
   "metadata": {},
   "source": [
    "在衍生用户信息特征时时，重点关注用户手机号是否有变动手机号及注册日期与插入日期的时间差"
   ]
  },
  {
   "cell_type": "markdown",
   "metadata": {},
   "source": [
    "### 借款用户画像表"
   ]
  },
  {
   "cell_type": "code",
   "execution_count": 78,
   "metadata": {},
   "outputs": [],
   "source": [
    "user_taglist = pd.read_csv(\"user_taglist.csv\")"
   ]
  },
  {
   "cell_type": "code",
   "execution_count": 97,
   "metadata": {},
   "outputs": [
    {
     "data": {
      "text/html": [
       "<div>\n",
       "<style scoped>\n",
       "    .dataframe tbody tr th:only-of-type {\n",
       "        vertical-align: middle;\n",
       "    }\n",
       "\n",
       "    .dataframe tbody tr th {\n",
       "        vertical-align: top;\n",
       "    }\n",
       "\n",
       "    .dataframe thead th {\n",
       "        text-align: right;\n",
       "    }\n",
       "</style>\n",
       "<table border=\"1\" class=\"dataframe\">\n",
       "  <thead>\n",
       "    <tr style=\"text-align: right;\">\n",
       "      <th></th>\n",
       "      <th>user_id</th>\n",
       "      <th>taglist</th>\n",
       "      <th>insertdate</th>\n",
       "    </tr>\n",
       "  </thead>\n",
       "  <tbody>\n",
       "    <tr>\n",
       "      <th>0</th>\n",
       "      <td>113401</td>\n",
       "      <td>4707|473|3498|4759|1654|298|2869|1164|212|1885...</td>\n",
       "      <td>2018-10-03</td>\n",
       "    </tr>\n",
       "    <tr>\n",
       "      <th>1</th>\n",
       "      <td>378358</td>\n",
       "      <td>751|2207|1100|2099|1832|1911|5347|2254|171|360...</td>\n",
       "      <td>2018-11-30</td>\n",
       "    </tr>\n",
       "    <tr>\n",
       "      <th>2</th>\n",
       "      <td>434838</td>\n",
       "      <td>877|3795|5628|70|2684|691|719|4228|631|1541|12...</td>\n",
       "      <td>2018-03-25</td>\n",
       "    </tr>\n",
       "    <tr>\n",
       "      <th>3</th>\n",
       "      <td>577061</td>\n",
       "      <td>2431|3242|340|1823|4020|4357|164|620|2168|1192...</td>\n",
       "      <td>2018-05-25</td>\n",
       "    </tr>\n",
       "    <tr>\n",
       "      <th>4</th>\n",
       "      <td>566753</td>\n",
       "      <td>3980|3125|1819|1333|1177|3972|621|5800|3632|16...</td>\n",
       "      <td>2018-12-02</td>\n",
       "    </tr>\n",
       "  </tbody>\n",
       "</table>\n",
       "</div>"
      ],
      "text/plain": [
       "   user_id                                            taglist  insertdate\n",
       "0   113401  4707|473|3498|4759|1654|298|2869|1164|212|1885...  2018-10-03\n",
       "1   378358  751|2207|1100|2099|1832|1911|5347|2254|171|360...  2018-11-30\n",
       "2   434838  877|3795|5628|70|2684|691|719|4228|631|1541|12...  2018-03-25\n",
       "3   577061  2431|3242|340|1823|4020|4357|164|620|2168|1192...  2018-05-25\n",
       "4   566753  3980|3125|1819|1333|1177|3972|621|5800|3632|16...  2018-12-02"
      ]
     },
     "execution_count": 97,
     "metadata": {},
     "output_type": "execute_result"
    }
   ],
   "source": [
    "user_taglist.head()"
   ]
  },
  {
   "cell_type": "code",
   "execution_count": 95,
   "metadata": {},
   "outputs": [],
   "source": [
    "#统计画像词频\n",
    "from collections import Counter"
   ]
  },
  {
   "cell_type": "code",
   "execution_count": null,
   "metadata": {},
   "outputs": [],
   "source": [
    "#用户画像关注点 1.标签具体含义，tag embedding"
   ]
  },
  {
   "cell_type": "code",
   "execution_count": 92,
   "metadata": {},
   "outputs": [],
   "source": [
    "taglists = user_taglist.taglist.map(lambda x:x.split('|')).values.tolist()"
   ]
  },
  {
   "cell_type": "code",
   "execution_count": 149,
   "metadata": {},
   "outputs": [
    {
     "data": {
      "text/plain": [
       "count    755321.000000\n",
       "mean        517.242259\n",
       "std         317.841300\n",
       "min          -1.000000\n",
       "25%         275.000000\n",
       "50%         469.000000\n",
       "75%         708.000000\n",
       "max        3942.000000\n",
       "dtype: float64"
      ]
     },
     "execution_count": 149,
     "metadata": {},
     "output_type": "execute_result"
    }
   ],
   "source": [
    "user_info[user_info.user_id.isin(train_data[train_data.yq_flag==0].user_id)].apply(\n",
    "    lambda x:(x.insertdate-x.reg_mon).days,axis=1).describe()"
   ]
  },
  {
   "cell_type": "code",
   "execution_count": 150,
   "metadata": {},
   "outputs": [
    {
     "data": {
      "text/plain": [
       "count    114950.000000\n",
       "mean        529.938538\n",
       "std         316.389584\n",
       "min           1.000000\n",
       "25%         286.000000\n",
       "50%         483.000000\n",
       "75%         726.000000\n",
       "max        3958.000000\n",
       "dtype: float64"
      ]
     },
     "execution_count": 150,
     "metadata": {},
     "output_type": "execute_result"
    }
   ],
   "source": [
    "user_info[user_info.user_id.isin(train_data[train_data.yq_flag==1].user_id)].apply(\n",
    "    lambda x:(x.insertdate-x.reg_mon).days,axis=1).describe()"
   ]
  },
  {
   "cell_type": "markdown",
   "metadata": {},
   "source": [
    "逾期用户相对非逾期用户注册到首次提供标的时间要更久一些"
   ]
  },
  {
   "cell_type": "markdown",
   "metadata": {},
   "source": [
    "### 用户操作行为日志表"
   ]
  },
  {
   "cell_type": "markdown",
   "metadata": {},
   "source": [
    "用户操作行为关注点:观察成交日前最近6个月的用户操作行为，比如相邻两天最大，最小间隔，单天最多操作次数，分类聚合\n",
    "用户行为信息的主要作用是识别反欺诈风险，防止羊毛党，所以主要的工作是识别异常行为，"
   ]
  },
  {
   "cell_type": "raw",
   "metadata": {},
   "source": [
    "设计思路：由于用户行为只保留了成交日之前的信息，所以按照实际情况来看，可以对行为做聚类，并为每个userid的行为打分，\n",
    "首先对用户行为按照RFM模型做特征衍生\n",
    "过去1，3，6个月  type (1,2,3,all) count\n",
    "                            单日点击次数 最大，最小，平均，方差\n",
    "                            同一时间内最多点击次数,\n",
    "                            最大，最小月差"
   ]
  },
  {
   "cell_type": "code",
   "execution_count": 180,
   "metadata": {},
   "outputs": [
    {
     "data": {
      "text/plain": [
       "1    43469932\n",
       "3    11303679\n",
       "2     1007660\n",
       "Name: behavior_type, dtype: int64"
      ]
     },
     "execution_count": 180,
     "metadata": {},
     "output_type": "execute_result"
    }
   ],
   "source": [
    "user_behavior.behavior_type.value_counts()"
   ]
  },
  {
   "cell_type": "code",
   "execution_count": 116,
   "metadata": {},
   "outputs": [],
   "source": [
    "user_behavior = pd.read_csv('user_behavior_logs.csv')"
   ]
  },
  {
   "cell_type": "code",
   "execution_count": 174,
   "metadata": {},
   "outputs": [
    {
     "data": {
      "text/plain": [
       "<matplotlib.axes._subplots.AxesSubplot at 0x7f12e7900f60>"
      ]
     },
     "execution_count": 174,
     "metadata": {},
     "output_type": "execute_result"
    },
    {
     "data": {
      "image/png": "[encoded data removed]",
      "text/plain": [
       "<matplotlib.figure.Figure at 0x7f12f8489908>"
      ]
     },
     "metadata": {},
     "output_type": "display_data"
    }
   ],
   "source": [
    "#用户总行为次数统计,次数的对数符合正态分布，均值在54次左右\n",
    "sns.distplot(np.log(user_behavior.groupby('user_id').size().values))"
   ]
  },
  {
   "cell_type": "markdown",
   "metadata": {},
   "source": [
    "用户操作行为日志 最早只记录到2017年7月的数据，所以我们假设2018年1月份的用户最早可以追溯到2017年7月所以，所以统一时间回溯范围为6个月,同时为了防止leakage，用户行为日志只保留合同生效前的数据"
   ]
  },
  {
   "cell_type": "markdown",
   "metadata": {},
   "source": [
    "### 用户还款日志表"
   ]
  },
  {
   "cell_type": "markdown",
   "metadata": {},
   "source": [
    "用户还款日志主要观察用户还款行为习惯，这对提前还款的天数预测非常重要，主要关注平均还款提前天数"
   ]
  },
  {
   "cell_type": "code",
   "execution_count": 177,
   "metadata": {},
   "outputs": [],
   "source": [
    "user_repay_logs = pd.read_csv(\"user_repay_logs.csv\")"
   ]
  },
  {
   "cell_type": "code",
   "execution_count": 178,
   "metadata": {},
   "outputs": [
    {
     "data": {
      "text/html": [
       "<div>\n",
       "<style scoped>\n",
       "    .dataframe tbody tr th:only-of-type {\n",
       "        vertical-align: middle;\n",
       "    }\n",
       "\n",
       "    .dataframe tbody tr th {\n",
       "        vertical-align: top;\n",
       "    }\n",
       "\n",
       "    .dataframe thead th {\n",
       "        text-align: right;\n",
       "    }\n",
       "</style>\n",
       "<table border=\"1\" class=\"dataframe\">\n",
       "  <thead>\n",
       "    <tr style=\"text-align: right;\">\n",
       "      <th></th>\n",
       "      <th>user_id</th>\n",
       "      <th>listing_id</th>\n",
       "      <th>order_id</th>\n",
       "      <th>due_date</th>\n",
       "      <th>due_amt</th>\n",
       "      <th>repay_date</th>\n",
       "      <th>repay_amt</th>\n",
       "    </tr>\n",
       "  </thead>\n",
       "  <tbody>\n",
       "    <tr>\n",
       "      <th>0</th>\n",
       "      <td>748483</td>\n",
       "      <td>1858122</td>\n",
       "      <td>6</td>\n",
       "      <td>2018-06-29</td>\n",
       "      <td>528.6365</td>\n",
       "      <td>2018-06-20</td>\n",
       "      <td>528.6365</td>\n",
       "    </tr>\n",
       "    <tr>\n",
       "      <th>1</th>\n",
       "      <td>748483</td>\n",
       "      <td>1858122</td>\n",
       "      <td>4</td>\n",
       "      <td>2018-04-29</td>\n",
       "      <td>528.6365</td>\n",
       "      <td>2200-01-01</td>\n",
       "      <td>528.6365</td>\n",
       "    </tr>\n",
       "    <tr>\n",
       "      <th>2</th>\n",
       "      <td>748483</td>\n",
       "      <td>1858122</td>\n",
       "      <td>7</td>\n",
       "      <td>2018-07-29</td>\n",
       "      <td>528.6365</td>\n",
       "      <td>2018-06-20</td>\n",
       "      <td>528.6365</td>\n",
       "    </tr>\n",
       "    <tr>\n",
       "      <th>3</th>\n",
       "      <td>748483</td>\n",
       "      <td>1858122</td>\n",
       "      <td>5</td>\n",
       "      <td>2018-05-29</td>\n",
       "      <td>528.6365</td>\n",
       "      <td>2018-05-29</td>\n",
       "      <td>528.6365</td>\n",
       "    </tr>\n",
       "    <tr>\n",
       "      <th>4</th>\n",
       "      <td>748483</td>\n",
       "      <td>1858122</td>\n",
       "      <td>1</td>\n",
       "      <td>2018-01-29</td>\n",
       "      <td>528.6365</td>\n",
       "      <td>2018-01-28</td>\n",
       "      <td>528.6365</td>\n",
       "    </tr>\n",
       "  </tbody>\n",
       "</table>\n",
       "</div>"
      ],
      "text/plain": [
       "   user_id  listing_id  order_id    due_date   due_amt  repay_date  repay_amt\n",
       "0   748483     1858122         6  2018-06-29  528.6365  2018-06-20   528.6365\n",
       "1   748483     1858122         4  2018-04-29  528.6365  2200-01-01   528.6365\n",
       "2   748483     1858122         7  2018-07-29  528.6365  2018-06-20   528.6365\n",
       "3   748483     1858122         5  2018-05-29  528.6365  2018-05-29   528.6365\n",
       "4   748483     1858122         1  2018-01-29  528.6365  2018-01-28   528.6365"
      ]
     },
     "execution_count": 178,
     "metadata": {},
     "output_type": "execute_result"
    }
   ],
   "source": [
    "user_repay_logs.head()"
   ]
  },
  {
   "cell_type": "code",
   "execution_count": 182,
   "metadata": {},
   "outputs": [
    {
     "data": {
      "text/plain": [
       "count    874841.000000\n",
       "mean          7.724069\n",
       "std           3.596788\n",
       "min           1.000000\n",
       "25%           5.000000\n",
       "50%           7.000000\n",
       "75%          12.000000\n",
       "max          12.000000\n",
       "Name: order_id, dtype: float64"
      ]
     },
     "execution_count": 182,
     "metadata": {},
     "output_type": "execute_result"
    }
   ],
   "source": [
    "user_repay_logs.groupby('user_id').order_id.max().describe()"
   ]
  },
  {
   "cell_type": "code",
   "execution_count": null,
   "metadata": {},
   "outputs": [],
   "source": [
    "a=[1,2,3,[1,2,3]]"
   ]
  },
  {
   "cell_type": "code",
   "execution_count": null,
   "metadata": {},
   "outputs": [],
   "source": [
    "a"
   ]
  }
 ],
 "metadata": {
  "kernelspec": {
   "display_name": "Python 3",
   "language": "python",
   "name": "python3"
  },
  "language_info": {
   "codemirror_mode": {
    "name": "ipython",
    "version": 3
   },
   "file_extension": ".py",
   "mimetype": "text/x-python",
   "name": "python",
   "nbconvert_exporter": "python",
   "pygments_lexer": "ipython3",
   "version": "3.6.4"
  }
 },
 "nbformat": 4,
 "nbformat_minor": 2
}
