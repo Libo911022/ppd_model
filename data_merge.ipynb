{
 "cells": [
  {
   "cell_type": "code",
   "execution_count": 5,
   "metadata": {},
   "outputs": [],
   "source": [
    "import pandas as pd\n",
    "import numpy as np\n",
    "import pickle\n",
    "import datetime as dt"
   ]
  },
  {
   "cell_type": "code",
   "execution_count": 6,
   "metadata": {},
   "outputs": [
    {
     "data": {
      "text/plain": [
       "'0.24.2'"
      ]
     },
     "execution_count": 6,
     "metadata": {},
     "output_type": "execute_result"
    }
   ],
   "source": [
    "pd.__version__"
   ]
  },
  {
   "cell_type": "code",
   "execution_count": 7,
   "metadata": {},
   "outputs": [],
   "source": [
    "train = pd.read_csv('data/train.csv')\n",
    "train['set_type'] =train['auditing_date'].map(lambda x:'eval' if x[:7] in ['2018-11','2018-12'] else 'train')"
   ]
  },
  {
   "cell_type": "code",
   "execution_count": 12,
   "metadata": {},
   "outputs": [],
   "source": [
    "#user_repay_logs = pd.read_csv(\"data/user_repay_logs.csv\")\n",
    "#del user_repay_logs"
   ]
  },
  {
   "cell_type": "code",
   "execution_count": 13,
   "metadata": {},
   "outputs": [],
   "source": [
    "train = pd.read_csv('data/train.csv')\n",
    "train['set_type'] =train['auditing_date'].map(lambda x:'eval' if x[:7] in ['2018-11','2018-12'] else 'train')\n",
    "train['label'] = train.apply(lambda x:(dt.datetime.strptime(x.due_date,'%Y-%m-%d')-\n",
    "                                           dt.datetime.strptime(x.repay_date,'%Y-%m-%d')).days if x.repay_date!='\\\\N' else -1,axis=1)\n",
    "#train和test的用户只有25537条有重叠，所以我们必须从用户信息中提炼出用户画像分析,重叠部分只有5974位用户在过去有重复申请历史\n",
    "test = pd.read_csv('data/test.csv')\n",
    "test['set_type']='test'\n",
    "test['label'] = 0\n",
    "original_cols = ['user_id', 'listing_id', 'auditing_date', 'due_date', 'due_amt','label','set_type']\n",
    "total_data = pd.concat([train[original_cols],test[original_cols]])\n",
    "total_data['due_date_day'] = total_data['due_date'].map(lambda x:x[-2:])\n",
    "total_data.set_index('user_id',inplace=True)"
   ]
  },
  {
   "cell_type": "code",
   "execution_count": 14,
   "metadata": {},
   "outputs": [],
   "source": [
    "user_repay_features = pd.read_pickle('preprocess/user_repay_features.pkl')\n",
    "user_repay_features.set_index('user_id',inplace=True)\n",
    "user_repay_columns = user_repay_features.columns"
   ]
  },
  {
   "cell_type": "code",
   "execution_count": 15,
   "metadata": {},
   "outputs": [],
   "source": [
    "total_data=total_data.join(user_repay_features)\n",
    "del user_repay_features"
   ]
  },
  {
   "cell_type": "code",
   "execution_count": 16,
   "metadata": {},
   "outputs": [],
   "source": [
    "with open('preprocess/behavior_features.pkl','rb') as file:\n",
    "    behavior_features =  pickle.load(file)\n",
    "behavior_features.set_index('user_id',inplace=True)\n",
    "behavior_columns = behavior_features.columns"
   ]
  },
  {
   "cell_type": "code",
   "execution_count": 17,
   "metadata": {},
   "outputs": [],
   "source": [
    "total_data=total_data.join(behavior_features)\n",
    "del behavior_features"
   ]
  },
  {
   "cell_type": "code",
   "execution_count": 18,
   "metadata": {},
   "outputs": [],
   "source": [
    "with open('preprocess/user_info_features.pkl','rb') as file:\n",
    "    user_info_features =  pickle.load(file)\n",
    "user_info_columns = user_info_features.columns"
   ]
  },
  {
   "cell_type": "code",
   "execution_count": 19,
   "metadata": {},
   "outputs": [],
   "source": [
    "total_data=total_data.join(user_info_features)\n",
    "del user_info_features"
   ]
  },
  {
   "cell_type": "code",
   "execution_count": 20,
   "metadata": {},
   "outputs": [],
   "source": [
    "with open('preprocess/listing_info_features.pkl','rb') as file:\n",
    "    listing_info_features =  pickle.load(file)\n",
    "listing_info_features.set_index('user_id',inplace=True)\n",
    "listing_info_columns = listing_info_features.columns\n",
    "for col in listing_info_features:\n",
    "    if 'interset' in col:\n",
    "        listing_info_features[col] = listing_info_features[col].map(lambda x:round(x/100,2))\n",
    "for col in listing_info_columns:\n",
    "    listing_info_features[col] = listing_info_features[col].map(lambda x:round(x,2))"
   ]
  },
  {
   "cell_type": "code",
   "execution_count": 21,
   "metadata": {},
   "outputs": [],
   "source": [
    "total_data=total_data.join(listing_info_features)\n",
    "del listing_info_features"
   ]
  },
  {
   "cell_type": "code",
   "execution_count": 22,
   "metadata": {},
   "outputs": [],
   "source": [
    "with open('preprocess/user_taglist_features.pkl','rb') as file:\n",
    "    user_taglist_features =  pickle.load(file)\n",
    "user_taglist_columns = user_taglist_features.columns\n",
    "user_taglist_features.columns = [e[1] for e in user_taglist_features.columns]\n",
    "user_taglist_features['tag_list'] = user_taglist_features['list'].map(lambda x:','.join(x))"
   ]
  },
  {
   "cell_type": "code",
   "execution_count": 23,
   "metadata": {},
   "outputs": [],
   "source": [
    "total_data = total_data.join(user_taglist_features[['tag_cnt','tag_list']]).reset_index()\n",
    "del user_taglist_features"
   ]
  },
  {
   "cell_type": "code",
   "execution_count": 24,
   "metadata": {},
   "outputs": [],
   "source": [
    "drop_col = ['auditing_date', 'due_date','set_type']\n",
    "category_cols = total_data.select_dtypes(object).columns\n",
    "numeric_cols= total_data.select_dtypes([float,int]).columns\n",
    "for col in total_data.drop(drop_col,axis=1).columns:\n",
    "    if col in category_cols:\n",
    "        total_data[col].fillna('UNK',inplace=True)\n",
    "    elif col in numeric_cols:\n",
    "        total_data[col].fillna(0,inplace=True)\n",
    "    else:\n",
    "        pass"
   ]
  },
  {
   "cell_type": "code",
   "execution_count": 25,
   "metadata": {},
   "outputs": [],
   "source": [
    "import calendar\n",
    "total_data['due_date'] = pd.to_datetime(total_data['due_date'] )\n",
    "total_data['due_date_weekday'] = total_data['due_date'].map(lambda x:1 if x.weekday()<5 else 0)"
   ]
  },
  {
   "cell_type": "code",
   "execution_count": 26,
   "metadata": {},
   "outputs": [],
   "source": [
    "for col in ['first_prepay_days_max','first_prepay_days_min','first_prepay_days_mode','prepay_days_max','prepay_days_mode']:\n",
    "    total_data[col] = total_data[col].astype(int)"
   ]
  },
  {
   "cell_type": "code",
   "execution_count": 27,
   "metadata": {},
   "outputs": [],
   "source": [
    "with open('total_features.pkl','wb') as file:\n",
    "    pickle.dump(total_data,file)"
   ]
  },
  {
   "cell_type": "code",
   "execution_count": 4,
   "metadata": {},
   "outputs": [],
   "source": [
    "#total_data = pd.read_pickle('total_features.pkl')"
   ]
  },
  {
   "cell_type": "code",
   "execution_count": 40,
   "metadata": {},
   "outputs": [],
   "source": [
    "#total_data.auditing_date.str[:7].value_counts().sort_index()"
   ]
  },
  {
   "cell_type": "code",
   "execution_count": 28,
   "metadata": {},
   "outputs": [],
   "source": [
    "all_columns=list(total_data.columns)\n",
    "all_columns.remove('label')\n",
    "total_data['label'] = total_data['label']+1\n",
    "total_data = total_data[['label']+all_columns]"
   ]
  },
  {
   "cell_type": "code",
   "execution_count": 29,
   "metadata": {},
   "outputs": [],
   "source": [
    "#[{i+1:x} for i,x in enumerate(total_data.drop(drop_col,axis=1).columns.tolist())]"
   ]
  },
  {
   "cell_type": "code",
   "execution_count": 30,
   "metadata": {},
   "outputs": [
    {
     "data": {
      "text/plain": [
       "928195"
      ]
     },
     "execution_count": 30,
     "metadata": {},
     "output_type": "execute_result"
    }
   ],
   "source": [
    "total_data.user_id.nunique()"
   ]
  },
  {
   "cell_type": "code",
   "execution_count": 85,
   "metadata": {},
   "outputs": [],
   "source": [
    "#train_data.columns.tolist()"
   ]
  },
  {
   "cell_type": "code",
   "execution_count": 31,
   "metadata": {},
   "outputs": [],
   "source": [
    "# train_data = total_data.query(\"set_type=='train'\").sort_values('user_id')\n",
    "# eval_data = total_data.query(\"set_type=='eval'\").sort_values('user_id')\n",
    "test_data = total_data.query(\"set_type=='test'\").sort_values('user_id')\n",
    "drop_col = ['auditing_date', 'due_date','set_type']\n",
    "drop_col_test = ['auditing_date', 'due_date','set_type','label']\n",
    "# train_data.drop(drop_col,axis=1).to_csv(\"ppd_model/train/train_data.csv\",index=0,header=0,sep='\\t')\n",
    "# eval_data.drop(drop_col,axis=1).to_csv(\"ppd_model/eval/eval_data.csv\",index=0,header=0,sep='\\t')\n",
    "test_data.drop(drop_col_test,axis=1).to_csv(\"ppd_model/test/test_data.csv\",index=0,header=0,sep='\\t')"
   ]
  },
  {
   "cell_type": "code",
   "execution_count": 32,
   "metadata": {},
   "outputs": [],
   "source": [
    "test_data.drop(drop_col,axis=1).drop('label',axis=1).to_csv(\"ppd_model/test/test_data.csv\",index=0,header=0,sep='\\t')"
   ]
  },
  {
   "cell_type": "code",
   "execution_count": 32,
   "metadata": {},
   "outputs": [],
   "source": [
    "import matplotlib.pyplot as plt\n",
    "import seaborn as sns\n",
    "color = sns.color_palette()\n",
    "pd.options.mode.chained_assignment = None\n",
    "pd.options.display.max_columns = 999\n",
    "%matplotlib inline"
   ]
  },
  {
   "cell_type": "code",
   "execution_count": 64,
   "metadata": {},
   "outputs": [
    {
     "data": {
      "text/plain": [
       "31.0"
      ]
     },
     "execution_count": 64,
     "metadata": {},
     "output_type": "execute_result"
    }
   ],
   "source": [
    "np.percentile(total_data.mean_coninue_repay_times_once,100)"
   ]
  },
  {
   "cell_type": "code",
   "execution_count": 89,
   "metadata": {},
   "outputs": [
    {
     "name": "stderr",
     "output_type": "stream",
     "text": [
      "/home/paperspace/anaconda3/envs/fastai/lib/python3.6/site-packages/ipykernel_launcher.py:1: RuntimeWarning: divide by zero encountered in log\n",
      "  \"\"\"Entry point for launching an IPython kernel.\n"
     ]
    },
    {
     "data": {
      "text/plain": [
       "5.905361848054571"
      ]
     },
     "execution_count": 89,
     "metadata": {},
     "output_type": "execute_result"
    }
   ],
   "source": [
    "np.log(total_data.prepay_days_max+1).max()"
   ]
  },
  {
   "cell_type": "code",
   "execution_count": 83,
   "metadata": {},
   "outputs": [],
   "source": [
    "#total_data.prepay_days_max.value_counts()"
   ]
  },
  {
   "cell_type": "code",
   "execution_count": 77,
   "metadata": {},
   "outputs": [
    {
     "name": "stderr",
     "output_type": "stream",
     "text": [
      "/home/paperspace/anaconda3/envs/fastai/lib/python3.6/site-packages/scipy/stats/stats.py:1706: FutureWarning: Using a non-tuple sequence for multidimensional indexing is deprecated; use `arr[tuple(seq)]` instead of `arr[seq]`. In the future this will be interpreted as an array index, `arr[np.array(seq)]`, which will result either in an error or a different result.\n",
      "  return np.add.reduce(sorted[indexer] * weights, axis=axis) / sumval\n"
     ]
    },
    {
     "data": {
      "text/plain": [
       "<matplotlib.axes._subplots.AxesSubplot at 0x7ff8a004c160>"
      ]
     },
     "execution_count": 77,
     "metadata": {},
     "output_type": "execute_result"
    },
    {
     "data": {
      "image/png": "[encoded data removed]",
      "text/plain": [
       "<matplotlib.figure.Figure at 0x7ff8a00a3c88>"
      ]
     },
     "metadata": {},
     "output_type": "display_data"
    }
   ],
   "source": [
    "sns.distplot(total_data.weighted_amt_max)"
   ]
  },
  {
   "cell_type": "code",
   "execution_count": 78,
   "metadata": {},
   "outputs": [
    {
     "name": "stderr",
     "output_type": "stream",
     "text": [
      "/home/paperspace/anaconda3/envs/fastai/lib/python3.6/site-packages/scipy/stats/stats.py:1706: FutureWarning: Using a non-tuple sequence for multidimensional indexing is deprecated; use `arr[tuple(seq)]` instead of `arr[seq]`. In the future this will be interpreted as an array index, `arr[np.array(seq)]`, which will result either in an error or a different result.\n",
      "  return np.add.reduce(sorted[indexer] * weights, axis=axis) / sumval\n"
     ]
    },
    {
     "data": {
      "text/plain": [
       "<matplotlib.axes._subplots.AxesSubplot at 0x7ff880774518>"
      ]
     },
     "execution_count": 78,
     "metadata": {},
     "output_type": "execute_result"
    },
    {
     "data": {
      "image/png": "[encoded data removed]",
      "text/plain": [
       "<matplotlib.figure.Figure at 0x7ff8c3ae8dd8>"
      ]
     },
     "metadata": {},
     "output_type": "display_data"
    }
   ],
   "source": [
    "sns.distplot(np.log(total_data.weighted_amt_max+1))"
   ]
  },
  {
   "cell_type": "code",
   "execution_count": 88,
   "metadata": {},
   "outputs": [
    {
     "name": "stdout",
     "output_type": "stream",
     "text": [
      "              total        used        free      shared  buff/cache   available\r\n",
      "Mem:          30150       19359        3445          77        7345       10468\r\n",
      "Swap:             0           0           0\r\n"
     ]
    }
   ],
   "source": [
    "!free -m"
   ]
  },
  {
   "cell_type": "code",
   "execution_count": 89,
   "metadata": {},
   "outputs": [
    {
     "data": {
      "text/plain": [
       "803031"
      ]
     },
     "execution_count": 89,
     "metadata": {},
     "output_type": "execute_result"
    }
   ],
   "source": [
    "len(train_data)"
   ]
  },
  {
   "cell_type": "code",
   "execution_count": null,
   "metadata": {},
   "outputs": [],
   "source": []
  }
 ],
 "metadata": {
  "kernelspec": {
   "display_name": "Python 3",
   "language": "python",
   "name": "python3"
  },
  "language_info": {
   "codemirror_mode": {
    "name": "ipython",
    "version": 3
   },
   "file_extension": ".py",
   "mimetype": "text/x-python",
   "name": "python",
   "nbconvert_exporter": "python",
   "pygments_lexer": "ipython3",
   "version": "3.6.4"
  }
 },
 "nbformat": 4,
 "nbformat_minor": 2
}
